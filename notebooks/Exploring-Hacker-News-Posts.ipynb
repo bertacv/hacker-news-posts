{
 "cells": [
  {
   "cell_type": "markdown",
   "metadata": {
    "collapsed": true
   },
   "source": [
    "# Finding trends in Hacker News Posts\n",
    "\n",
    "In this project, we will work with the data of the popular technology site [Hacker News](https://news.ycombinator.com/).\n",
    "\n",
    "Hacker News is a site started by the startup incubator [Y Combinator](https://www.ycombinator.com/), where user-submitted posts are voted and commented upon, similar to reddit.\n",
    "\n",
    "We will analyse posts whose title begin with either `Ask HN`or `Show HN`:\n",
    "\n",
    "- `Ask HN`posts are used to ask the Hacker News community a specific question.\n",
    "- `Show HN` posts are used to show the Hacker News community a project, product or something generally interesting.\n",
    "\n",
    "The goal of this project is to compare these two types of posts to determine the following:\n",
    "\n",
    "- Do `Ask HN` or `Show HN` receive more comments on average?\n",
    "- Do posts created at a certain time receive more comments on average?\n",
    "\n",
    "The data set can be found in [this link](https://www.kaggle.com/hacker-news/hacker-news-posts).\n",
    "\n",
    "It should be noted that the data set we're working with was reduced from almost 300,000 rows to approximately 20,000 rows by removing all submissions that did not receive any comments, and then randomly sampling from the remaining submissions.\n",
    "\n",
    "## Opening and reading the file\n",
    "\n",
    "Let's start by opening and reading the file and visualizing the first 5 frows."
   ]
  },
  {
   "cell_type": "code",
   "execution_count": 1,
   "metadata": {},
   "outputs": [
    {
     "name": "stdout",
     "output_type": "stream",
     "text": [
      "[['id', 'title', 'url', 'num_points', 'num_comments', 'author', 'created_at'], ['12224879', 'Interactive Dynamic Video', 'http://www.interactivedynamicvideo.com/', '386', '52', 'ne0phyte', '8/4/2016 11:52'], ['10975351', 'How to Use Open Source and Shut the Fuck Up at the Same Time', 'http://hueniverse.com/2016/01/26/how-to-use-open-source-and-shut-the-fuck-up-at-the-same-time/', '39', '10', 'josep2', '1/26/2016 19:30'], ['11964716', \"Florida DJs May Face Felony for April Fools' Water Joke\", 'http://www.thewire.com/entertainment/2013/04/florida-djs-april-fools-water-joke/63798/', '2', '1', 'vezycash', '6/23/2016 22:20']]\n"
     ]
    }
   ],
   "source": [
    "from csv import reader\n",
    "\n",
    "opened_file = open('hacker_news.csv')\n",
    "read_file = reader(opened_file)\n",
    "hn = list(read_file)\n",
    "print(hn[:4])"
   ]
  },
  {
   "cell_type": "markdown",
   "metadata": {},
   "source": [
    "## Removing headers\n",
    "\n",
    "We are going to save the row with column headers and the rest of the rows in separate variables."
   ]
  },
  {
   "cell_type": "code",
   "execution_count": 2,
   "metadata": {},
   "outputs": [
    {
     "name": "stdout",
     "output_type": "stream",
     "text": [
      "['id', 'title', 'url', 'num_points', 'num_comments', 'author', 'created_at']\n",
      "\n",
      "\n",
      "[['12224879', 'Interactive Dynamic Video', 'http://www.interactivedynamicvideo.com/', '386', '52', 'ne0phyte', '8/4/2016 11:52'], ['10975351', 'How to Use Open Source and Shut the Fuck Up at the Same Time', 'http://hueniverse.com/2016/01/26/how-to-use-open-source-and-shut-the-fuck-up-at-the-same-time/', '39', '10', 'josep2', '1/26/2016 19:30'], ['11964716', \"Florida DJs May Face Felony for April Fools' Water Joke\", 'http://www.thewire.com/entertainment/2013/04/florida-djs-april-fools-water-joke/63798/', '2', '1', 'vezycash', '6/23/2016 22:20'], ['11919867', 'Technology ventures: From Idea to Enterprise', 'https://www.amazon.com/Technology-Ventures-Enterprise-Thomas-Byers/dp/0073523429', '3', '1', 'hswarna', '6/17/2016 0:01']]\n"
     ]
    }
   ],
   "source": [
    "headers = hn[0]\n",
    "hn = hn[1:]\n",
    "\n",
    "print(headers)\n",
    "print('\\n')\n",
    "print(hn[:4])"
   ]
  },
  {
   "cell_type": "markdown",
   "metadata": {},
   "source": [
    "## Filtering `Ask HN` and `Show HN` posts\n",
    "\n",
    "As we only want to analyse post that begin with 'Ask HN' or 'Show HN', we will filter them out and store the data in two new lists of list: `ask_posts` and `show_posts`. We will keep all the other posts' information in the list `ohter_posts`.\n",
    "\n",
    "For that we will use two string methods:\n",
    "- `lower` to get the lowercase version of the post title\n",
    "- `statswith` to check whether the post title starts with `Ask HN` or `Show HN`"
   ]
  },
  {
   "cell_type": "code",
   "execution_count": 3,
   "metadata": {},
   "outputs": [
    {
     "name": "stdout",
     "output_type": "stream",
     "text": [
      "Number of Ask HN posts: 1744\n",
      "Number of Show HN posts: 1162\n",
      "Number of other posts: 17194\n",
      "Total posts: 20100\n"
     ]
    }
   ],
   "source": [
    "ask_posts = []\n",
    "show_posts = []\n",
    "other_posts = []\n",
    "\n",
    "for row in hn:\n",
    "    \n",
    "    title = row[1]\n",
    "    title_low = title.lower()\n",
    "    \n",
    "    if title_low.startswith('ask hn'):\n",
    "        ask_posts.append(row)\n",
    "        \n",
    "    elif title_low.startswith('show hn'):\n",
    "        show_posts.append(row)\n",
    "        \n",
    "    else:\n",
    "        other_posts.append(row)\n",
    "        \n",
    "print('Number of Ask HN posts:',len(ask_posts))\n",
    "print('Number of Show HN posts:',len(show_posts))\n",
    "print('Number of other posts:',len(other_posts))\n",
    "print('Total posts:',len(hn))\n",
    "                                                             "
   ]
  },
  {
   "cell_type": "markdown",
   "metadata": {},
   "source": [
    "We have 1744 `Ask HN` posts and 1162 `Show HN` posts out of 20100 posts.\n",
    "\n",
    "## Do `Ask HN` or `Show HN` receive more comments on average?\n",
    "\n",
    "Now let's find out if these kind of posts receive more comments on average."
   ]
  },
  {
   "cell_type": "code",
   "execution_count": 4,
   "metadata": {},
   "outputs": [
    {
     "name": "stdout",
     "output_type": "stream",
     "text": [
      "Ask HN posts average comments: 14.038417431192661\n",
      "Show HN posts average comments: 10.31669535283993\n"
     ]
    }
   ],
   "source": [
    "#Find the total number of comments in Ask HN posts\n",
    "total_ask_comments = 0\n",
    "for post in ask_posts:\n",
    "    num_comments = int(post[4])\n",
    "    total_ask_comments += num_comments\n",
    "    \n",
    "#Calculate the average number of comments in Ask HN posts\n",
    "avg_ask_comments = total_ask_comments / len(ask_posts)\n",
    "print ('Ask HN posts average comments:',avg_ask_comments)\n",
    "\n",
    "#Find the total number of comments in Show HN posts\n",
    "total_show_comments = 0\n",
    "for post in show_posts:\n",
    "    num_comments = int(post[4])\n",
    "    total_show_comments += num_comments\n",
    "    \n",
    "#Calculate the average number of comments in Ask HN posts\n",
    "avg_show_comments = total_show_comments / len(show_posts)\n",
    "print ('Show HN posts average comments:',avg_show_comments)\n",
    "    "
   ]
  },
  {
   "cell_type": "markdown",
   "metadata": {},
   "source": [
    "On average, `Ask HN` posts receive 4 more comments than `Show HN` posts. \n",
    "\n",
    "However, on average they seem to receive less comments compared to the other kind of posts in Hacker News. This could be biased by a few extremely popular posts."
   ]
  },
  {
   "cell_type": "code",
   "execution_count": 5,
   "metadata": {},
   "outputs": [
    {
     "name": "stdout",
     "output_type": "stream",
     "text": [
      "Other posts average comments: 26.8730371059672\n"
     ]
    }
   ],
   "source": [
    "#Find the total number of comments in other posts\n",
    "total_other_comments = 0\n",
    "for post in other_posts:\n",
    "    num_comments = int(post[4])\n",
    "    total_other_comments += num_comments\n",
    "    \n",
    "#Calculate the average number of comments in Ask HN posts\n",
    "avg_other_comments = total_other_comments / len(other_posts)\n",
    "print ('Other posts average comments:',avg_other_comments)"
   ]
  },
  {
   "cell_type": "markdown",
   "metadata": {},
   "source": [
    "## When is the best time to create a post to receive more comments?\n",
    "\n",
    "Anyway, as our purpose is to compare `Ask HN` and `Show HN` posts, we will focus on analysing only these posts. \n",
    "\n",
    "We want to determine if the ones created at a certain *time* are more likely to attract comments. We well use the following strategy to do the analysis:\n",
    "\n",
    "1. Calculate the amount of posts created in each hour of the day.\n",
    "2. Calculate the number of comments received in each hour of the day.\n",
    "3. Calculate the average number of comments posts receive by hour of the day.\n",
    "\n",
    "### Finding the best time to create a `Ask HN` post\n",
    "\n",
    "We will start analysing `Ask HN` posts.\n",
    "#### Amount of Posts and Comments by Hour"
   ]
  },
  {
   "cell_type": "code",
   "execution_count": 6,
   "metadata": {},
   "outputs": [
    {
     "name": "stdout",
     "output_type": "stream",
     "text": [
      "{'09': 45, '13': 85, '10': 59, '14': 107, '16': 108, '23': 68, '12': 73, '17': 100, '15': 116, '21': 109, '20': 80, '02': 58, '18': 109, '03': 54, '05': 46, '19': 110, '01': 60, '22': 71, '08': 48, '04': 47, '00': 55, '06': 44, '07': 34, '11': 58}\n",
      "\n",
      "\n",
      "{'09': 251, '13': 1253, '10': 793, '14': 1416, '16': 1814, '23': 543, '12': 687, '17': 1146, '15': 4477, '21': 1745, '20': 1722, '02': 1381, '18': 1439, '03': 421, '05': 464, '19': 1188, '01': 683, '22': 479, '08': 492, '04': 337, '00': 447, '06': 397, '07': 267, '11': 641}\n"
     ]
    }
   ],
   "source": [
    "import datetime as dt\n",
    "  \n",
    "ask_counts_by_hour = {}\n",
    "ask_comments_by_hour = {}\n",
    "\n",
    "for post in ask_posts:\n",
    "    date = post[6]\n",
    "    comments = int(post[4])\n",
    "    \n",
    "    # Parse the date and create a datetime object\n",
    "    dt_date = dt.datetime.strptime(date,\"%m/%d/%Y %H:%M\")\n",
    "    \n",
    "    # Select just the hour from the datetime object\n",
    "    hour = dt_date.strftime(\"%H\")\n",
    "    \n",
    "    # Create two dictionaries to store the number of posts and comments by hour\n",
    "    if hour not in ask_counts_by_hour:\n",
    "        ask_counts_by_hour[hour] = 1\n",
    "        ask_comments_by_hour[hour] = comments\n",
    "    else:\n",
    "        ask_counts_by_hour[hour] += 1\n",
    "        ask_comments_by_hour[hour] += comments\n",
    "        \n",
    "print(ask_counts_by_hour)\n",
    "print(\"\\n\")\n",
    "print(ask_comments_by_hour)"
   ]
  },
  {
   "cell_type": "markdown",
   "metadata": {},
   "source": [
    "#### Average Number of Comments by Hour\n",
    "\n",
    "We will use the data in the two dictionaries that we have just created to create a new list of lists.\n",
    "\n",
    "Each element of the new list will contain an hour during which posts were created and the average number of comments those posts received."
   ]
  },
  {
   "cell_type": "code",
   "execution_count": 7,
   "metadata": {},
   "outputs": [
    {
     "data": {
      "text/plain": [
       "[['09', 5.5777777777777775],\n",
       " ['13', 14.741176470588234],\n",
       " ['10', 13.440677966101696],\n",
       " ['14', 13.233644859813085],\n",
       " ['16', 16.796296296296298],\n",
       " ['23', 7.985294117647059],\n",
       " ['12', 9.41095890410959],\n",
       " ['17', 11.46],\n",
       " ['15', 38.5948275862069],\n",
       " ['21', 16.009174311926607],\n",
       " ['20', 21.525],\n",
       " ['02', 23.810344827586206],\n",
       " ['18', 13.20183486238532],\n",
       " ['03', 7.796296296296297],\n",
       " ['05', 10.08695652173913],\n",
       " ['19', 10.8],\n",
       " ['01', 11.383333333333333],\n",
       " ['22', 6.746478873239437],\n",
       " ['08', 10.25],\n",
       " ['04', 7.170212765957447],\n",
       " ['00', 8.127272727272727],\n",
       " ['06', 9.022727272727273],\n",
       " ['07', 7.852941176470588],\n",
       " ['11', 11.051724137931034]]"
      ]
     },
     "execution_count": 7,
     "metadata": {},
     "output_type": "execute_result"
    }
   ],
   "source": [
    "ask_avg_by_hour = []\n",
    "\n",
    "for hour in ask_counts_by_hour:\n",
    "    comments = ask_comments_by_hour[hour]\n",
    "    counts = ask_counts_by_hour[hour]\n",
    "    average =  comments / counts\n",
    "    ask_avg_by_hour.append([hour,average])\n",
    "\n",
    "ask_avg_by_hour"
   ]
  },
  {
   "cell_type": "markdown",
   "metadata": {},
   "source": [
    "#### Sorting the values of the list of lists\n",
    "\n",
    "Although we now have the results we need, this format makes it hard to identify the hours with the highest values. \n",
    "\n",
    "Let's finish by sorting the list of lists and printing the five highest values in a format that's easier to read."
   ]
  },
  {
   "cell_type": "code",
   "execution_count": 8,
   "metadata": {},
   "outputs": [
    {
     "name": "stdout",
     "output_type": "stream",
     "text": [
      "Top 5 Hours for Ask Posts Comments\n",
      "\n",
      "\n",
      "15:00: 38.59 average comments per post\n",
      "02:00: 23.81 average comments per post\n",
      "20:00: 21.52 average comments per post\n",
      "16:00: 16.80 average comments per post\n",
      "21:00: 16.01 average comments per post\n"
     ]
    }
   ],
   "source": [
    "# Swaping the columns of our list of lists\n",
    "ask_swap_avg_by_hour = []\n",
    "\n",
    "for row in ask_avg_by_hour:\n",
    "    ask_swap_avg_by_hour.append([row[1],row[0]])\n",
    "    \n",
    "# Sort the list by the average number of comments in descending order\n",
    "ask_sorted_swap = sorted(ask_swap_avg_by_hour,reverse=True)\n",
    "\n",
    "print(\"Top 5 Hours for Ask Posts Comments\")\n",
    "print(\"\\n\")\n",
    "\n",
    "template = \"{hour}: {avg_com:.2f} average comments per post\"\n",
    "\n",
    "for row in ask_sorted_swap[:5]:\n",
    "    \n",
    "    # Format the hour\n",
    "    hour = row[1]\n",
    "    hour = dt.datetime.strptime(hour,\"%H\")\n",
    "    hour = hour.strftime(\"%H:%M\")\n",
    "    \n",
    "    #Format the average with 2 decimals and print the output\n",
    "    output = template.format(hour = hour, avg_com = row[0])\n",
    "    print(output)"
   ]
  },
  {
   "cell_type": "markdown",
   "metadata": {},
   "source": [
    "#### Conclusion\n",
    "\n",
    "Based on our analysis, we should create `Ask HN` posts at 3pm or 2am to have a higher chance to receive comments. Those times correspond to 9pm and 8am in Central European Time (CET).\n",
    "\n",
    "Now let's repeat the same analysis for `Show HN` posts.\n",
    "\n",
    "### Finding the best time to create a `Show HN` post\n",
    "#### Amount of Posts and Comments by Hour"
   ]
  },
  {
   "cell_type": "code",
   "execution_count": 9,
   "metadata": {},
   "outputs": [
    {
     "name": "stdout",
     "output_type": "stream",
     "text": [
      "{'14': 86, '22': 46, '18': 61, '07': 26, '20': 60, '05': 19, '16': 93, '19': 55, '15': 78, '03': 27, '17': 93, '06': 16, '02': 30, '13': 99, '08': 34, '21': 47, '04': 26, '11': 44, '12': 61, '23': 36, '09': 30, '01': 28, '10': 36, '00': 31}\n",
      "\n",
      "\n",
      "{'14': 1156, '22': 570, '18': 962, '07': 299, '20': 612, '05': 58, '16': 1084, '19': 539, '15': 632, '03': 287, '17': 911, '06': 142, '02': 127, '13': 946, '08': 165, '21': 272, '04': 247, '11': 491, '12': 720, '23': 447, '09': 291, '01': 246, '10': 297, '00': 487}\n"
     ]
    }
   ],
   "source": [
    "import datetime as dt\n",
    "  \n",
    "show_counts_by_hour = {}\n",
    "show_comments_by_hour = {}\n",
    "\n",
    "for post in show_posts:\n",
    "    date = post[6]\n",
    "    comments = int(post[4])\n",
    "    \n",
    "    # Parse the date and create a datetime object\n",
    "    dt_date = dt.datetime.strptime(date,\"%m/%d/%Y %H:%M\")\n",
    "    \n",
    "    # Select just the hour from the datetime object\n",
    "    hour = dt_date.strftime(\"%H\")\n",
    "    \n",
    "    # Create two dictionaries to store the number of posts and comments by hour\n",
    "    if hour not in show_counts_by_hour:\n",
    "        show_counts_by_hour[hour] = 1\n",
    "        show_comments_by_hour[hour] = comments\n",
    "    else:\n",
    "        show_counts_by_hour[hour] += 1\n",
    "        show_comments_by_hour[hour] += comments\n",
    "        \n",
    "print(show_counts_by_hour)\n",
    "print(\"\\n\")\n",
    "print(show_comments_by_hour)"
   ]
  },
  {
   "cell_type": "markdown",
   "metadata": {},
   "source": [
    "#### Average Number of Comments by Hour\n",
    "\n",
    "This time we will create the list of lists with the columns already swaped. This allows us to sort the list directly, without any previous transformation."
   ]
  },
  {
   "cell_type": "code",
   "execution_count": 10,
   "metadata": {},
   "outputs": [
    {
     "name": "stdout",
     "output_type": "stream",
     "text": [
      "Top 5 Hours for Show Posts Comments\n",
      "\n",
      "\n",
      "18:00: 15.77 average comments per post\n",
      "00:00: 15.71 average comments per post\n",
      "14:00: 13.44 average comments per post\n",
      "23:00: 12.42 average comments per post\n",
      "22:00: 12.39 average comments per post\n"
     ]
    }
   ],
   "source": [
    "show_avg_by_hour = []\n",
    "\n",
    "for hour in show_counts_by_hour:\n",
    "    comments = show_comments_by_hour[hour]\n",
    "    counts = show_counts_by_hour[hour]\n",
    "    average =  comments / counts\n",
    "    show_avg_by_hour.append([average,hour])\n",
    "\n",
    "# Sort the list by the average number of comments in descending order\n",
    "show_sorted = sorted(show_avg_by_hour,reverse=True)\n",
    "\n",
    "print(\"Top 5 Hours for Show Posts Comments\")\n",
    "print(\"\\n\")\n",
    "\n",
    "template = \"{hour}: {avg_com:.2f} average comments per post\"\n",
    "\n",
    "for row in show_sorted[:5]:\n",
    "    \n",
    "    # Format the hour\n",
    "    hour = row[1]\n",
    "    hour = dt.datetime.strptime(hour,\"%H\")\n",
    "    hour = hour.strftime(\"%H:%M\")\n",
    "    \n",
    "    #Format the average with 2 decimals and print the output\n",
    "    output = template.format(hour = hour, avg_com = row[0])\n",
    "    print(output)"
   ]
  },
  {
   "cell_type": "markdown",
   "metadata": {},
   "source": [
    "#### Conclusion\n",
    "\n",
    "Based on our analysis, we should create `Show HN` posts at 6pm or 12am to have a higher chance to receive comments. Those times correspond to 12am and 6am in Central European Time (CET).\n",
    "\n",
    "## Sum up\n",
    "\n",
    "In this project, we have analysed data from the technology site Hacker News to find out the following:\n",
    "\n",
    "- Do `Ask HN` or `Show HN` receive more comments on average?\n",
    "- Do posts created at a certain time receive more comments on average?\n",
    "\n",
    "After looking into the data, we have seen that `Ask HN` posts receive 4 more comments on average than `Show HN` posts. \n",
    "\n",
    "The posts that receive more comments are the ones created between 3pm and 4pm for `Ask HN` posts and between 6pm and 7pm for `Show HN` posts, both in Eastern Time.\n",
    "\n",
    "However, it should be noted that the data set we analysed excluded posts without any comments. Given that, it's more accurate to say that our conclusions only apply to the posts that received comments."
   ]
  }
 ],
 "metadata": {
  "kernelspec": {
   "display_name": "Python 3",
   "language": "python",
   "name": "python3"
  },
  "language_info": {
   "codemirror_mode": {
    "name": "ipython",
    "version": 3
   },
   "file_extension": ".py",
   "mimetype": "text/x-python",
   "name": "python",
   "nbconvert_exporter": "python",
   "pygments_lexer": "ipython3",
   "version": "3.8.2"
  }
 },
 "nbformat": 4,
 "nbformat_minor": 2
}
